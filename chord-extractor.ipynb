{
  "nbformat": 4,
  "nbformat_minor": 0,
  "metadata": {
    "colab": {
      "name": "Untitled6.ipynb",
      "provenance": [],
      "authorship_tag": "ABX9TyN71BcpHj1HL/MvYhlk3D+j",
      "include_colab_link": true
    },
    "kernelspec": {
      "name": "python3",
      "display_name": "Python 3"
    },
    "language_info": {
      "name": "python"
    }
  },
  "cells": [
    {
      "cell_type": "markdown",
      "metadata": {
        "id": "view-in-github",
        "colab_type": "text"
      },
      "source": [
        "<a href=\"https://colab.research.google.com/github/guyyariv/AI-Beat-Maker/blob/master/chord-extractor.ipynb\" target=\"_parent\"><img src=\"https://colab.research.google.com/assets/colab-badge.svg\" alt=\"Open In Colab\"/></a>"
      ]
    },
    {
      "cell_type": "code",
      "execution_count": 5,
      "metadata": {
        "colab": {
          "base_uri": "https://localhost:8080/"
        },
        "id": "5aKFRgaTmbQ8",
        "outputId": "114f44bc-b3c2-4cbf-bd09-c8ce350048bb"
      },
      "outputs": [
        {
          "output_type": "stream",
          "name": "stdout",
          "text": [
            "Reading package lists... Done\n",
            "Building dependency tree       \n",
            "Reading state information... Done\n",
            "libsndfile1 is already the newest version (1.0.28-4ubuntu0.18.04.2).\n",
            "The following package was automatically installed and is no longer required:\n",
            "  libnvidia-common-460\n",
            "Use 'sudo apt autoremove' to remove it.\n",
            "0 upgraded, 0 newly installed, 0 to remove and 42 not upgraded.\n",
            "Looking in indexes: https://pypi.org/simple, https://us-python.pkg.dev/colab-wheels/public/simple/\n",
            "Requirement already satisfied: chord-extractor in /usr/local/lib/python3.7/dist-packages (0.1.1)\n",
            "Requirement already satisfied: librosa in /usr/local/lib/python3.7/dist-packages (from chord-extractor) (0.8.1)\n",
            "Requirement already satisfied: vamp in /usr/local/lib/python3.7/dist-packages (from chord-extractor) (1.1.0)\n",
            "Requirement already satisfied: audioread>=2.0.0 in /usr/local/lib/python3.7/dist-packages (from librosa->chord-extractor) (2.1.9)\n",
            "Requirement already satisfied: numpy>=1.15.0 in /usr/local/lib/python3.7/dist-packages (from librosa->chord-extractor) (1.21.6)\n",
            "Requirement already satisfied: decorator>=3.0.0 in /usr/local/lib/python3.7/dist-packages (from librosa->chord-extractor) (4.4.2)\n",
            "Requirement already satisfied: soundfile>=0.10.2 in /usr/local/lib/python3.7/dist-packages (from librosa->chord-extractor) (0.10.3.post1)\n",
            "Requirement already satisfied: scipy>=1.0.0 in /usr/local/lib/python3.7/dist-packages (from librosa->chord-extractor) (1.4.1)\n",
            "Requirement already satisfied: packaging>=20.0 in /usr/local/lib/python3.7/dist-packages (from librosa->chord-extractor) (21.3)\n",
            "Requirement already satisfied: scikit-learn!=0.19.0,>=0.14.0 in /usr/local/lib/python3.7/dist-packages (from librosa->chord-extractor) (1.0.2)\n",
            "Requirement already satisfied: resampy>=0.2.2 in /usr/local/lib/python3.7/dist-packages (from librosa->chord-extractor) (0.2.2)\n",
            "Requirement already satisfied: joblib>=0.14 in /usr/local/lib/python3.7/dist-packages (from librosa->chord-extractor) (1.1.0)\n",
            "Requirement already satisfied: pooch>=1.0 in /usr/local/lib/python3.7/dist-packages (from librosa->chord-extractor) (1.6.0)\n",
            "Requirement already satisfied: numba>=0.43.0 in /usr/local/lib/python3.7/dist-packages (from librosa->chord-extractor) (0.51.2)\n",
            "Requirement already satisfied: llvmlite<0.35,>=0.34.0.dev0 in /usr/local/lib/python3.7/dist-packages (from numba>=0.43.0->librosa->chord-extractor) (0.34.0)\n",
            "Requirement already satisfied: setuptools in /usr/local/lib/python3.7/dist-packages (from numba>=0.43.0->librosa->chord-extractor) (57.4.0)\n",
            "Requirement already satisfied: pyparsing!=3.0.5,>=2.0.2 in /usr/local/lib/python3.7/dist-packages (from packaging>=20.0->librosa->chord-extractor) (3.0.9)\n",
            "Requirement already satisfied: appdirs>=1.3.0 in /usr/local/lib/python3.7/dist-packages (from pooch>=1.0->librosa->chord-extractor) (1.4.4)\n",
            "Requirement already satisfied: requests>=2.19.0 in /usr/local/lib/python3.7/dist-packages (from pooch>=1.0->librosa->chord-extractor) (2.23.0)\n",
            "Requirement already satisfied: urllib3!=1.25.0,!=1.25.1,<1.26,>=1.21.1 in /usr/local/lib/python3.7/dist-packages (from requests>=2.19.0->pooch>=1.0->librosa->chord-extractor) (1.24.3)\n",
            "Requirement already satisfied: certifi>=2017.4.17 in /usr/local/lib/python3.7/dist-packages (from requests>=2.19.0->pooch>=1.0->librosa->chord-extractor) (2022.5.18.1)\n",
            "Requirement already satisfied: idna<3,>=2.5 in /usr/local/lib/python3.7/dist-packages (from requests>=2.19.0->pooch>=1.0->librosa->chord-extractor) (2.10)\n",
            "Requirement already satisfied: chardet<4,>=3.0.2 in /usr/local/lib/python3.7/dist-packages (from requests>=2.19.0->pooch>=1.0->librosa->chord-extractor) (3.0.4)\n",
            "Requirement already satisfied: six>=1.3 in /usr/local/lib/python3.7/dist-packages (from resampy>=0.2.2->librosa->chord-extractor) (1.15.0)\n",
            "Requirement already satisfied: threadpoolctl>=2.0.0 in /usr/local/lib/python3.7/dist-packages (from scikit-learn!=0.19.0,>=0.14.0->librosa->chord-extractor) (3.1.0)\n",
            "Requirement already satisfied: cffi>=1.0 in /usr/local/lib/python3.7/dist-packages (from soundfile>=0.10.2->librosa->chord-extractor) (1.15.0)\n",
            "Requirement already satisfied: pycparser in /usr/local/lib/python3.7/dist-packages (from cffi>=1.0->soundfile>=0.10.2->librosa->chord-extractor) (2.21)\n"
          ]
        }
      ],
      "source": [
        "!sudo apt-get install libsndfile1\n",
        "!pip install chord-extractor"
      ]
    },
    {
      "cell_type": "code",
      "source": [
        "from chord_extractor.extractors import Chordino"
      ],
      "metadata": {
        "id": "86h6K3uzmit_"
      },
      "execution_count": 6,
      "outputs": []
    },
    {
      "cell_type": "code",
      "source": [
        "chordino = Chordino(roll_on=1) \n",
        "conversion_file_path = '/content/Guitar backing track in C Major  - Pop style.wav'\n",
        "chords = chordino.extract(conversion_file_path)\n",
        "chords"
      ],
      "metadata": {
        "colab": {
          "base_uri": "https://localhost:8080/"
        },
        "id": "um9QIgn6mtIK",
        "outputId": "699aeb29-4b70-4153-9c5b-8950c70a84ae"
      },
      "execution_count": null,
      "outputs": [
        {
          "output_type": "execute_result",
          "data": {
            "text/plain": [
              "[ChordChange(chord='N', timestamp=0.371519274),\n",
              " ChordChange(chord='C', timestamp=2.972154195),\n",
              " ChordChange(chord='Am', timestamp=6.222947845),\n",
              " ChordChange(chord='F', timestamp=9.19510204),\n",
              " ChordChange(chord='G', timestamp=12.260136054),\n",
              " ChordChange(chord='C', timestamp=15.13941043),\n",
              " ChordChange(chord='Am', timestamp=18.111564625),\n",
              " ChordChange(chord='F', timestamp=21.08371882),\n",
              " ChordChange(chord='G', timestamp=24.241632653),\n",
              " ChordChange(chord='C', timestamp=27.120907029),\n",
              " ChordChange(chord='Am', timestamp=30.185941043),\n",
              " ChordChange(chord='F', timestamp=33.250975056),\n",
              " ChordChange(chord='G', timestamp=36.31600907),\n",
              " ChordChange(chord='C', timestamp=39.195283446),\n",
              " ChordChange(chord='Am', timestamp=42.167437641),\n",
              " ChordChange(chord='F', timestamp=45.232471655),\n",
              " ChordChange(chord='G', timestamp=48.20462585),\n",
              " ChordChange(chord='C', timestamp=51.176780045),\n",
              " ChordChange(chord='Am', timestamp=54.14893424),\n",
              " ChordChange(chord='F', timestamp=57.121088435),\n",
              " ChordChange(chord='G', timestamp=60.186122448),\n",
              " ChordChange(chord='C', timestamp=63.158276643),\n",
              " ChordChange(chord='Am', timestamp=66.03755102),\n",
              " ChordChange(chord='F', timestamp=69.102585034),\n",
              " ChordChange(chord='G', timestamp=72.167619047),\n",
              " ChordChange(chord='C', timestamp=75.046893424),\n",
              " ChordChange(chord='Am', timestamp=78.111927437),\n",
              " ChordChange(chord='F', timestamp=81.176961451),\n",
              " ChordChange(chord='G', timestamp=84.241995464),\n",
              " ChordChange(chord='C', timestamp=87.214149659),\n",
              " ChordChange(chord='Am', timestamp=90.093424036),\n",
              " ChordChange(chord='F', timestamp=93.158458049),\n",
              " ChordChange(chord='G', timestamp=96.223492063),\n",
              " ChordChange(chord='C', timestamp=99.102766439),\n",
              " ChordChange(chord='Am7', timestamp=101.982040816),\n",
              " ChordChange(chord='F', timestamp=105.047074829),\n",
              " ChordChange(chord='G', timestamp=108.112108843),\n",
              " ChordChange(chord='C', timestamp=111.177142857),\n",
              " ChordChange(chord='Am', timestamp=114.056417233),\n",
              " ChordChange(chord='F', timestamp=116.285532879),\n",
              " ChordChange(chord='G', timestamp=120.18648526),\n",
              " ChordChange(chord='C', timestamp=123.158639455),\n",
              " ChordChange(chord='Am', timestamp=126.13079365),\n",
              " ChordChange(chord='F', timestamp=129.195827664),\n",
              " ChordChange(chord='G', timestamp=132.260861678),\n",
              " ChordChange(chord='C', timestamp=135.140136054),\n",
              " ChordChange(chord='Am', timestamp=138.112290249),\n",
              " ChordChange(chord='F', timestamp=141.177324263),\n",
              " ChordChange(chord='G', timestamp=144.242358276),\n",
              " ChordChange(chord='C', timestamp=147.121632653),\n",
              " ChordChange(chord='Am', timestamp=150.093786848),\n",
              " ChordChange(chord='F', timestamp=153.158820861),\n",
              " ChordChange(chord='G', timestamp=156.223854875),\n",
              " ChordChange(chord='C', timestamp=159.19600907),\n",
              " ChordChange(chord='Am', timestamp=162.075283446),\n",
              " ChordChange(chord='F', timestamp=165.047437641),\n",
              " ChordChange(chord='G', timestamp=168.205351473),\n",
              " ChordChange(chord='C', timestamp=171.08462585),\n",
              " ChordChange(chord='Am', timestamp=174.149659863),\n",
              " ChordChange(chord='F', timestamp=177.214693877),\n",
              " ChordChange(chord='G', timestamp=180.279727891),\n",
              " ChordChange(chord='C', timestamp=183.159002267),\n",
              " ChordChange(chord='Am', timestamp=186.131156462),\n",
              " ChordChange(chord='F', timestamp=189.196190476),\n",
              " ChordChange(chord='G', timestamp=192.261224489),\n",
              " ChordChange(chord='C', timestamp=195.140498866),\n",
              " ChordChange(chord='Am', timestamp=198.019773242),\n",
              " ChordChange(chord='F', timestamp=200.991927437),\n",
              " ChordChange(chord='G', timestamp=204.056961451),\n",
              " ChordChange(chord='C', timestamp=207.121995464),\n",
              " ChordChange(chord='Am', timestamp=210.001269841),\n",
              " ChordChange(chord='F', timestamp=212.323265306),\n",
              " ChordChange(chord='G', timestamp=216.038458049),\n",
              " ChordChange(chord='C', timestamp=219.103492063),\n",
              " ChordChange(chord='Am', timestamp=222.168526077),\n",
              " ChordChange(chord='F', timestamp=225.23356009),\n",
              " ChordChange(chord='G', timestamp=228.298594104),\n",
              " ChordChange(chord='C', timestamp=231.17786848),\n",
              " ChordChange(chord='Am', timestamp=234.150022675),\n",
              " ChordChange(chord='F', timestamp=237.215056689),\n",
              " ChordChange(chord='G', timestamp=240.280090702),\n",
              " ChordChange(chord='N', timestamp=249.196553287)]"
            ]
          },
          "metadata": {},
          "execution_count": 4
        }
      ]
    }
  ]
}